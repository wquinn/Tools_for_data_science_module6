{
 "cells": [
  {
   "cell_type": "markdown",
   "id": "f8eef5ba-f81e-4a68-afad-2b9c762ed45d",
   "metadata": {},
   "source": [
    "# Data Science Tools and Ecosystem"
   ]
  },
  {
   "cell_type": "markdown",
   "id": "0210c72d-b377-4ebb-8e16-73d1973cf09e",
   "metadata": {},
   "source": [
    "## In this notebook, Data Science Tools and Ecosystem are summarized."
   ]
  },
  {
   "cell_type": "markdown",
   "id": "e05c0c5b-23ff-4afe-ba88-16764c61e1ec",
   "metadata": {},
   "source": [
    "## <b>Objectives</b>:\n",
    "- Introduce Datascience languages\n",
    "- Develop understanding of Jupyter Notebook\n",
    "- Familiarize students with Datascience Environments"
   ]
  },
  {
   "cell_type": "markdown",
   "id": "fdfbd4d1-82d0-4095-997f-daffa0ea6bf0",
   "metadata": {},
   "source": [
    "### Some of the popular languages that Data Scientists use are:\n",
    "    1. Python\n",
    "    2. R\n",
    "    3. SAS\n",
    "    4. Java"
   ]
  },
  {
   "cell_type": "markdown",
   "id": "81c2ef14-465d-42c6-924c-f992853f86eb",
   "metadata": {},
   "source": [
    "### Some of the commonly used libraries used by Data Scientists include:\n",
    "    1. NumPy\n",
    "    2. Pandas\n",
    "    3. Matplotlib\n",
    "    4. SciPy"
   ]
  },
  {
   "cell_type": "markdown",
   "id": "3212314d-8269-41b4-acbf-cbc5fef6ec44",
   "metadata": {},
   "source": [
    "|Data Science Tools|\n",
    "|---|\n",
    "|TensorFlow|\n",
    "|Apache Spark|\n",
    "|Apache Hadoop|"
   ]
  },
  {
   "cell_type": "markdown",
   "id": "906607f7-f4a9-4825-b037-2dc6fe1dc79d",
   "metadata": {},
   "source": [
    "### Below are a few examples of evaluating arithmetic expressions in Python"
   ]
  },
  {
   "cell_type": "code",
   "execution_count": 23,
   "id": "3cb50221-f735-4027-a5e3-212b5a7a27bd",
   "metadata": {},
   "outputs": [
    {
     "data": {
      "text/plain": [
       "17"
      ]
     },
     "execution_count": 23,
     "metadata": {},
     "output_type": "execute_result"
    }
   ],
   "source": [
    "#This a simple arithmetic expression to mutiply then add integers\n",
    "(3*4)+5"
   ]
  },
  {
   "cell_type": "code",
   "execution_count": 37,
   "id": "bfd04e15-94eb-4629-99ff-6b0e7a7d5f55",
   "metadata": {},
   "outputs": [
    {
     "data": {
      "text/plain": [
       "3.3333333333333335"
      ]
     },
     "execution_count": 37,
     "metadata": {},
     "output_type": "execute_result"
    }
   ],
   "source": [
    "#This will convert 200 minutes to hours by diving by 60\n",
    "minutes = 200\n",
    "hour = 60\n",
    "\n",
    "minutes/hour"
   ]
  },
  {
   "cell_type": "markdown",
   "id": "db79ca21-4f4f-4c8f-86ac-40f36103dafc",
   "metadata": {},
   "source": [
    "## Author\n",
    "Bill Quinn"
   ]
  }
 ],
 "metadata": {
  "kernelspec": {
   "display_name": "Python 3 (ipykernel)",
   "language": "python",
   "name": "python3"
  },
  "language_info": {
   "codemirror_mode": {
    "name": "ipython",
    "version": 3
   },
   "file_extension": ".py",
   "mimetype": "text/x-python",
   "name": "python",
   "nbconvert_exporter": "python",
   "pygments_lexer": "ipython3",
   "version": "3.12.7"
  }
 },
 "nbformat": 4,
 "nbformat_minor": 5
}
